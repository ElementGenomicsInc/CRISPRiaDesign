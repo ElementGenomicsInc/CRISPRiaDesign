{
 "cells": [
  {
   "cell_type": "code",
   "execution_count": null,
   "metadata": {},
   "outputs": [],
   "source": [
    "conda create CRISPRiaDesign\n",
    "conda activate CRISPRiaDesign\n",
    "conda install pandas scipy biopython scikit-learn=0.19 \n",
    "conda install pysam -c bioconda bx-python viennarna\n",
    "# versions???\n",
    "\n",
    "# create a kernel that reproduces this environment\n",
    "python -m ipykernel install --user --name CRISPRiaDesign \\\n",
    "    --display-name \"Python (CRISPRiaDesign)\"\n",
    "\n",
    "pip install multiprocessing ConfigParser\n",
    "\n",
    "cd ~/analyses/CRISPRiaDesign/\n",
    "wget https://raw.githubusercontent.com/mhorlbeck/ScreenProcessing/master/expt_config_parser.py\n",
    "    "
   ]
  },
  {
   "cell_type": "markdown",
   "metadata": {},
   "source": [
    "#### Download data files"
   ]
  },
  {
   "cell_type": "code",
   "execution_count": null,
   "metadata": {},
   "outputs": [],
   "source": [
    "%%bash\n",
    "\n",
    "mkdir -p ~/analyses/CRISPRiaDesign/large_data_files/\n",
    "cd ~/analyses/CRISPRiaDesign/large_data_files/\n",
    "\n",
    "wget -O wgEncodeOpenChromDnaseK562BaseOverlapSignalV2.bigWig \\\n",
    "    https://www.encodeproject.org/files/ENCFF000SVL/@@download/ENCFF000SVL.bigWig\n",
    "wget -O wgEncodeOpenChromFaireK562Sig.bigWig \\\n",
    "    https://www.encodeproject.org/files/ENCFF000TLU/@@download/ENCFF000TLU.bigWig\n",
    "wget -O wgEncodeSydhNsomeK562Sig.bigWig \\\n",
    "    https://www.encodeproject.org/files/ENCFF000VNN/@@download/ENCFF000VNN.bigWig\n"
   ]
  }
 ],
 "metadata": {
  "kernelspec": {
   "display_name": "Python 2",
   "language": "python",
   "name": "python2"
  },
  "language_info": {
   "codemirror_mode": {
    "name": "ipython",
    "version": 2
   },
   "file_extension": ".py",
   "mimetype": "text/x-python",
   "name": "python",
   "nbconvert_exporter": "python",
   "pygments_lexer": "ipython2",
   "version": "2.7.15"
  }
 },
 "nbformat": 4,
 "nbformat_minor": 2
}
